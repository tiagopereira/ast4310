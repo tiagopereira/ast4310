{
 "cells": [
  {
   "cell_type": "markdown",
   "id": "305abc2b-d550-4f99-a7d3-bd0754ec714f",
   "metadata": {},
   "source": [
    "# SST sunspot analysis\n",
    "\n",
    "In this tutorial, we will analyse spectral data of a sunpot aquired with the 1-metre swedish telescope (SST) located on La Palma."
   ]
  },
  {
   "cell_type": "code",
   "execution_count": null,
   "id": "c01ae686-87a4-4428-8715-c64b55539b5e",
   "metadata": {},
   "outputs": [],
   "source": [
    "using Unitful\n",
    "using CairoMakie\n",
    "using Statistics\n",
    "using LaTeXStrings\n",
    "\n",
    "import PhysicalConstants.CODATA2018: c_0, m_e, e\n",
    "\n",
    "custom_theme = Theme(\n",
    "    Axis = (\n",
    "        xgridvisible = false,  # Set grid visibility to false\n",
    "        ygridvisible = false,\n",
    "    ),\n",
    ")\n",
    "Makie.set_theme!(custom_theme)\n",
    "CairoMakie.enable_only_mime!(\"svg\")"
   ]
  },
  {
   "cell_type": "markdown",
   "id": "2146534f-44c3-4ca2-8846-99c1f0e8ef54",
   "metadata": {},
   "source": [
    "### Read sunspot data\n",
    "\n",
    "Tha data has three variables: intensity, Stokes V (circular polarisation), and wavelength. There are 13 wavelengths, roughly covering the Fe I 617 nm line profile. The intensity has three dimensions: (nx, ny, wavelength). With `ny=961` and `nx=974`, the dataset contains almost one million spectra. The size of each spatial pixel is approximately 0.058 arcseconds, or 42.46 km on the solar surface. We will use the `JLD2` library to read the dataset:"
   ]
  },
  {
   "cell_type": "code",
   "execution_count": null,
   "id": "5ca559fd-8fdd-4a9b-a687-4f45d72ce636",
   "metadata": {},
   "outputs": [],
   "source": [
    "]add JLD2"
   ]
  },
  {
   "cell_type": "code",
   "execution_count": null,
   "id": "19ac9b4a-3a77-430d-b689-d66a78275fbf",
   "metadata": {},
   "outputs": [],
   "source": [
    "# Load dataset"
   ]
  },
  {
   "cell_type": "markdown",
   "id": "17d58b5e-3e3a-46ac-be06-f92cc817aeac",
   "metadata": {},
   "source": [
    "Construct the coordinates in arcseconds, with respect to the lower left corner:"
   ]
  },
  {
   "cell_type": "code",
   "execution_count": null,
   "id": "ecc5046f-a874-46fa-aa62-1104b94ca905",
   "metadata": {},
   "outputs": [],
   "source": [
    "x = collect(1:size(intensity,1))*0.058\n",
    "y = collect(1:size(intensity,2))*0.058;"
   ]
  },
  {
   "cell_type": "markdown",
   "id": "00b016f5-f0fc-400c-ad6f-bb0d13b3b894",
   "metadata": {},
   "source": [
    "### Plot an image of the intensity\n",
    "\n",
    "Things to keep in mind:\n",
    "- aspect $\\rightarrow$ `DataAspect`\n",
    "- colormap $\\rightarrow$ monotonically increasing, see [Makie's colormaps](https://docs.makie.org/dev/explanations/colors#Colormaps)\n",
    "- good contrast $\\rightarrow$ try `heatmap!(ax, ..., colorrange=(cmin, cmax))` with appropriate values for `cmin` and `cmax`\n",
    "\n",
    "\n",
    "(15 minutes)"
   ]
  },
  {
   "cell_type": "code",
   "execution_count": null,
   "id": "e7a3a27c-a7e7-4164-97bf-d4b1011c7d31",
   "metadata": {},
   "outputs": [],
   "source": [
    "# Make a plot of the intensity, either an image at a fixed wavelength, or a spectrogram"
   ]
  },
  {
   "cell_type": "markdown",
   "id": "96fadd70-5996-4af1-a36a-2924ccdcd766",
   "metadata": {},
   "source": [
    "### Plot intensity and spectral lines for some interesting locations"
   ]
  },
  {
   "cell_type": "code",
   "execution_count": null,
   "id": "b4861ece-751a-4e64-bfe0-d98c2e0c2634",
   "metadata": {},
   "outputs": [],
   "source": [
    "# Plot spectra for some interesting pixels"
   ]
  },
  {
   "cell_type": "markdown",
   "id": "0e8b2cc6-a57f-4182-b6df-7fea8ac2c623",
   "metadata": {},
   "source": [
    "### Calculate line-of-sight velocities\n",
    "\n",
    "The Doppler shift is given by\n",
    "\n",
    "$$\\frac{\\Delta \\lambda}{\\lambda_0} = \\frac{v_{los}}{c}$$\n",
    "\n",
    "where $\\Delta \\lambda = \\lambda_0 - \\lambda$. We can find $\\lambda_0$ by calculating the first moment. The first moment is given by\n",
    "\n",
    "$$ E[X] = \\mu = \\frac{\\int \\lambda I_\\lambda \\mathrm{d}\\lambda}{\\int I_\\lambda \\mathrm{d}\\lambda}\\,,$$\n",
    "\n",
    "for a continuous variable. For a discrete variable, we use a sum:\n",
    "\n",
    "$$ \\mu = \\frac{\\sum_i I_{\\lambda,i} \\lambda_i}{\\sum_i I_{\\lambda,i}}\\,.$$\n",
    "\n",
    "In order to get $\\lambda_0$ from these expressions, we should invert the line profiles,\n",
    "\n",
    "$$\n",
    "I_\\mathrm{inv} = I_0 - I_\\lambda\\,.\n",
    "$$"
   ]
  },
  {
   "cell_type": "code",
   "execution_count": null,
   "id": "ee444d68-92cd-44ad-9882-9c82905478d0",
   "metadata": {},
   "outputs": [],
   "source": [
    "# Calculate Doppler shifts"
   ]
  },
  {
   "cell_type": "code",
   "execution_count": null,
   "id": "a95cd4cf-401d-47f3-93d4-41bfd2f2f216",
   "metadata": {},
   "outputs": [],
   "source": [
    "# Plot doppler shifts"
   ]
  },
  {
   "cell_type": "markdown",
   "id": "7f6905dc-531f-4f48-a7ad-a3c4a50f7ded",
   "metadata": {},
   "source": [
    "What do you see? Discuss!"
   ]
  }
 ],
 "metadata": {
  "kernelspec": {
   "display_name": "Julia 1.11.7",
   "language": "julia",
   "name": "julia-1.11"
  },
  "language_info": {
   "file_extension": ".jl",
   "mimetype": "application/julia",
   "name": "julia",
   "version": "1.11.7"
  }
 },
 "nbformat": 4,
 "nbformat_minor": 5
}
