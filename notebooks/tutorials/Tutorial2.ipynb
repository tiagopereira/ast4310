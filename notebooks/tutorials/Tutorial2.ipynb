{
 "cells": [
  {
   "cell_type": "markdown",
   "id": "1e5024ef-f525-47a8-9a72-c0381179e3ae",
   "metadata": {},
   "source": [
    "### Imports and constants"
   ]
  },
  {
   "cell_type": "code",
   "execution_count": null,
   "id": "d846a849-1eb8-4462-9af7-6b1d08a49216",
   "metadata": {},
   "outputs": [],
   "source": [
    "using CairoMakie\n",
    "using Random\n",
    "using Distributions\n",
    "using Unitful\n",
    "import PhysicalConstants.CODATA2018: h, k_B, c_0, m_e\n",
    "\n",
    "CairoMakie.enable_only_mime!(\"svg\")"
   ]
  },
  {
   "cell_type": "markdown",
   "id": "147a05cb-6912-4221-a715-da888bb499c5",
   "metadata": {},
   "source": [
    "## More on broadcasting\n",
    "\n",
    "In python, broadcasting is neccessary to write *efficient programs*. In Julia, broadcasting is done when we want to write *clean code*. The essence?\n",
    "- Remove the for-loops\n",
    "- Write code that is close to the mathematical expressions\n",
    "\n",
    "You can use broadcasting when you do:\n",
    "* element-by-element operations on arrays\n",
    "* vector multiplication\n",
    "* evaluate function on every elemtent of a vector, or a grid (N-dimensional array)\n",
    "* ... and much more\n",
    "\n",
    "\n",
    "Broadcasting is all about figuring out how calculations on arrays are done, and it works seamlessly when array dimensions are the same:"
   ]
  },
  {
   "cell_type": "code",
   "execution_count": null,
   "id": "74c8bf95-d715-4ef4-b8a8-acad395bb9b6",
   "metadata": {},
   "outputs": [],
   "source": [
    "a = [1 0;\n",
    "     2 1]\n",
    "\n",
    "b = [-2  1;\n",
    "     0  -1]\n",
    "\n",
    "##"
   ]
  },
  {
   "cell_type": "markdown",
   "id": "a5f4da4e-94d0-4e6d-bce3-d25c0b737602",
   "metadata": {},
   "source": [
    "### The `.` operator for broadcasting\n",
    "\n",
    "The `.` operator works when we add/multiply arrays with sligthly different dimensions:"
   ]
  },
  {
   "cell_type": "code",
   "execution_count": null,
   "id": "a08ebf28-f645-4cd0-806f-0b2ab2e514f8",
   "metadata": {},
   "outputs": [],
   "source": [
    "a = [1 0; \n",
    "     2 1]\n",
    "\n",
    "b = [-1, 1]\n",
    "\n",
    "##"
   ]
  },
  {
   "cell_type": "markdown",
   "id": "94a20476-6aac-4559-8614-eaa66d23e884",
   "metadata": {},
   "source": [
    "Here, `b` is a vector that is multiplied with the columns of `a`. Can you change the expression sligthly so that `b` is multiplied with the columns instead? "
   ]
  },
  {
   "cell_type": "code",
   "execution_count": null,
   "id": "c7c18a16-54be-4573-a0f5-ce49485958bd",
   "metadata": {},
   "outputs": [],
   "source": [
    "# TODO"
   ]
  },
  {
   "cell_type": "markdown",
   "id": "70deef8f-27e9-4f7c-9bba-8878de81a20b",
   "metadata": {},
   "source": [
    "## Blackbody function and multiple dispatch"
   ]
  },
  {
   "cell_type": "markdown",
   "id": "b5ca8f3b-7453-4d53-baec-b813066f0b8c",
   "metadata": {},
   "source": [
    "Complete the function `blackbody_λ` that computes black body radiation per wavelength, $B_\\lambda(T)$. Make the function return numbers with appropriate units, `iλ_units`"
   ]
  },
  {
   "cell_type": "code",
   "execution_count": null,
   "id": "a96d4bd3-710d-4f7d-80d0-cde96d4c5286",
   "metadata": {},
   "outputs": [],
   "source": [
    "iλ_units = u\"kW / (m^2 * nm * sr)\"\n",
    "\n",
    "function blackbody_λ(λ, temp) \n",
    "    ### TODO\n",
    "end"
   ]
  },
  {
   "cell_type": "code",
   "execution_count": null,
   "id": "4420b428-6549-4204-9fab-f22d09a52c5d",
   "metadata": {},
   "outputs": [],
   "source": [
    "# "
   ]
  },
  {
   "cell_type": "markdown",
   "id": "27c24f49-77cc-4c61-a250-025033d6f0be",
   "metadata": {},
   "source": [
    "Make a heatmap of the Black-body function for an appropriate range of wavelengths and temperatures"
   ]
  },
  {
   "cell_type": "code",
   "execution_count": null,
   "id": "4080f5cb-0a89-4000-b6de-68851b3fa993",
   "metadata": {},
   "outputs": [],
   "source": [
    "## TODO"
   ]
  },
  {
   "cell_type": "markdown",
   "id": "77fd4b7c-bc47-4757-9563-9ffa1eed8d75",
   "metadata": {},
   "source": [
    "Make a `blackbody_ν` function that computes the blackbody radiation per frequency, $B_\\nu(T)$. Type the arguments of the function! \n",
    "\n",
    "*Hint: Argument typing in Julia means to specify what type the arguments are (e.g. Float, Int, etc...). Unitful types can be represented by, e.g. `Unitful.Frequency`*"
   ]
  },
  {
   "cell_type": "code",
   "execution_count": null,
   "id": "45446760-19eb-4915-93a4-9e12ecbbf3e0",
   "metadata": {},
   "outputs": [],
   "source": [
    "iν_units = u\"nW / (m^2 * Hz * sr)\"\n",
    "\n",
    "function blackbody_ν(\n",
    "        # Fill in arguments\n",
    ")\n",
    "    ## TODO\n",
    "end"
   ]
  },
  {
   "cell_type": "code",
   "execution_count": null,
   "id": "f6b4a7e4-695b-4479-b707-8934f4d70320",
   "metadata": {},
   "outputs": [],
   "source": [
    "freqs = [100,500]u\"THz\"\n",
    "temps = [5000, 6000]u\"K\""
   ]
  },
  {
   "cell_type": "code",
   "execution_count": null,
   "id": "8ebb2ac0-44d3-4b1e-943c-6cd3c970caf2",
   "metadata": {},
   "outputs": [],
   "source": [
    "blackbody_ν.(freqs,temps')"
   ]
  },
  {
   "cell_type": "markdown",
   "id": "a8f803c2-b081-49c7-af04-bf201a46d7fc",
   "metadata": {},
   "source": [
    "Make use of **multiple dispatch** to create two blackbody functions with the same name, where one function takes wavelength and the other takes frequency"
   ]
  },
  {
   "cell_type": "code",
   "execution_count": null,
   "id": "4379c6b9-22f7-4289-a554-7ed7dc72afbd",
   "metadata": {},
   "outputs": [],
   "source": [
    "function blackbody(\n",
    "    ## Function that takes wavelength\n",
    ")\n",
    "end\n",
    "\n",
    "function blackbody(\n",
    "    ## Function that takes frequency\n",
    ") \n",
    "end"
   ]
  },
  {
   "cell_type": "code",
   "execution_count": null,
   "id": "5a373941-a011-4ab8-9a97-8306024357f3",
   "metadata": {},
   "outputs": [],
   "source": [
    "blackbody.(freqs,temps')"
   ]
  },
  {
   "cell_type": "code",
   "execution_count": null,
   "id": "742bfa83-2b30-40b9-9232-1bbb6b7ed635",
   "metadata": {},
   "outputs": [],
   "source": [
    "waves = [500, 600]u\"nm\"\n",
    "blackbody.(waves,temps')"
   ]
  }
 ],
 "metadata": {
  "kernelspec": {
   "display_name": "Julia (8 threads) 1.11.6",
   "language": "julia",
   "name": "julia-_8-threads_-1.11"
  },
  "language_info": {
   "file_extension": ".jl",
   "mimetype": "application/julia",
   "name": "julia",
   "version": "1.11.6"
  }
 },
 "nbformat": 4,
 "nbformat_minor": 5
}
