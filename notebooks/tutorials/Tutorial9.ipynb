{
 "cells": [
  {
   "cell_type": "code",
   "execution_count": 19,
   "id": "98796230-023b-41c7-84ad-226c2b5c73d7",
   "metadata": {},
   "outputs": [
    {
     "data": {
      "text/plain": [
       "const_barklem (generic function with 1 method)"
      ]
     },
     "execution_count": 19,
     "metadata": {},
     "output_type": "execute_result"
    }
   ],
   "source": [
    "using Unitful\n",
    "using CairoMakie\n",
    "using JLD2\n",
    "using Interpolations\n",
    "using NumericalIntegration\n",
    "using ProgressMeter\n",
    "import SpecialFunctions: gamma, erfcx\n",
    "import PhysicalConstants.CODATA2018: h, k_B, R_∞, c_0, m_e, m_u, e, ε_0, a_0\n",
    "\n",
    "include(\"tutorial9_functions.jl\")"
   ]
  },
  {
   "cell_type": "code",
   "execution_count": null,
   "id": "e240b2c9-265e-4454-a589-ec36c405a4c4",
   "metadata": {},
   "outputs": [],
   "source": [
    "# Explore FALC dataset\n",
    "@load \"falc.jld2\" falc"
   ]
  },
  {
   "cell_type": "code",
   "execution_count": 7,
   "id": "06edec02-2aba-4eab-9418-886f8a4e2062",
   "metadata": {},
   "outputs": [
    {
     "data": {
      "text/plain": [
       "doppler_width (generic function with 2 methods)"
      ]
     },
     "execution_count": 7,
     "metadata": {},
     "output_type": "execute_result"
    }
   ],
   "source": [
    "# Write functions for doppler width..."
   ]
  },
  {
   "cell_type": "code",
   "execution_count": 8,
   "id": "1f563a6b-ecc2-4bb6-a9fd-5fb017b91e27",
   "metadata": {},
   "outputs": [],
   "source": [
    "\"\"\"\n",
    "Partition functions for Na I, Na II, Na III\n",
    "\"\"\"\n",
    "θ = 2.0:-0.2:0.2\n",
    "Ttable = 5040u\"K\" ./ θ\n",
    "\n",
    "logU = [0.301  0.301  0.302  0.303  0.305  0.315  0.354  0.542  1.127  2.014\n",
    "           0.000  0.000  0.000  0.000  0.000  0.000  0.000  0.000  3.6e-13  2.46e-6\n",
    "           0.692  0.698  0.705  0.713  0.720  0.729  0.737  0.747  0.757  0.767]\n",
    "\n",
    "const pfunction_NaI = extrapolate(interpolate(Ttable, 10 .^ logU[1, :], SteffenMonotonicInterpolation()), Flat())\n",
    "const pfunction_NaII = extrapolate(interpolate(Ttable, 10 .^ logU[2, :], SteffenMonotonicInterpolation()), Flat())\n",
    "const pfunction_NaIII = extrapolate(interpolate(Ttable, 10 .^ logU[3, :], SteffenMonotonicInterpolation()), Flat());"
   ]
  },
  {
   "cell_type": "code",
   "execution_count": 20,
   "id": "5928d0d6-0c9b-47ce-a612-3abb208061c8",
   "metadata": {},
   "outputs": [
    {
     "data": {
      "text/plain": [
       "α_NaI_line (generic function with 1 method)"
      ]
     },
     "execution_count": 20,
     "metadata": {},
     "output_type": "execute_result"
    }
   ],
   "source": [
    "function α_NaI_line(\n",
    "    temperature::Unitful.Temperature,\n",
    "    h_density::NumberDensity,\n",
    "    electron_density::NumberDensity,\n",
    "    ΔλD::Unitful.Length,\n",
    "    line::AtomicLine,\n",
    ")\n",
    "   ### TODO\n",
    "end"
   ]
  },
  {
   "cell_type": "code",
   "execution_count": 10,
   "id": "5846461d-d7bd-41bd-8dd1-8fbad4f63686",
   "metadata": {},
   "outputs": [
    {
     "data": {
      "text/plain": [
       "compute_Na_intensity (generic function with 1 method)"
      ]
     },
     "execution_count": 10,
     "metadata": {},
     "output_type": "execute_result"
    }
   ],
   "source": [
    "function compute_Na_intensity(atm, λ, line::AtomicLine)\n",
    "    # compute wavelength-independent parts\n",
    "    ΔλD = zeros(typeof(1f0u\"nm\"), atm.nz)\n",
    "    damp = zeros(Float32, atm.nz)\n",
    "    α_c = zeros(typeof(1f0u\"m^-1\"), atm.nz)\n",
    "    α_l = zeros(typeof(1f0u\"m^-1\"), atm.nz)\n",
    "    α_total = zeros(typeof(1f0u\"m^-1\"), atm.nz)\n",
    "    source_function = zeros(typeof(1f0u\"kW / (m^2 * nm * sr)\"), atm.nz)\n",
    "    intensity = zeros(eltype(source_function), length(λ))\n",
    "\n",
    "    for i in 1:atm.nz\n",
    "        ### Calculate continuum extinction and source function\n",
    "    end\n",
    "    \n",
    "    # wavelength loop\n",
    "    for (i, λi) in enumerate(λ)\n",
    "        for iz in 1:atm.nz\n",
    "            # Wavelength-dependent part\n",
    "        end\n",
    "        # Calculate intensity\n",
    "    end\n",
    "    return intensity\n",
    "end"
   ]
  },
  {
   "cell_type": "markdown",
   "id": "e36bff6c-15a2-4add-a36a-b021c19ba092",
   "metadata": {},
   "source": [
    "## Na I D$_1$\n",
    "\n",
    "The Na I D$_1$ is a resonance line at $\\lambda_0$ = 589.755 nm. Some useful parameters:\n",
    "\n",
    "| Parameter    | value |\n",
    "| -------- | ------- |\n",
    "|  $\\sigma$  |  409  |\n",
    "|  $\\alpha$  |  0.237  |\n",
    "|  abundance |  6.24  |"
   ]
  },
  {
   "cell_type": "code",
   "execution_count": 13,
   "id": "9b07776a-241f-497e-8830-d5f6a848f445",
   "metadata": {},
   "outputs": [
    {
     "data": {
      "text/plain": [
       "AtomicLine(589.755 nm, -0.194, 6.14e7 s⁻¹, 0.0 aJ, 409.0, 0.237, 9.05154536982924e-16 m³ rad s⁻¹, 3.8175409556609616e-26 kg, 6.24)"
      ]
     },
     "execution_count": 13,
     "metadata": {},
     "output_type": "execute_result"
    }
   ],
   "source": [
    "# Na I 589.755\n",
    "const Na_line = AtomicLine(\n",
    "    ## Build the atom\n",
    ")"
   ]
  }
 ],
 "metadata": {
  "kernelspec": {
   "display_name": "Julia 1.12.0",
   "language": "julia",
   "name": "julia-1.12"
  },
  "language_info": {
   "file_extension": ".jl",
   "mimetype": "application/julia",
   "name": "julia",
   "version": "1.12.0"
  }
 },
 "nbformat": 4,
 "nbformat_minor": 5
}
