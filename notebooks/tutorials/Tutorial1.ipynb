{
 "cells": [
  {
   "cell_type": "code",
   "execution_count": null,
   "metadata": {},
   "outputs": [],
   "source": [
    "using Unitful\n",
    "using UnitfulAstro\n",
    "using CairoMakie"
   ]
  },
  {
   "cell_type": "markdown",
   "metadata": {},
   "source": [
    "## This is my markdown code\n",
    "\n",
    "- A list\n",
    "- Will be bullets\n",
    "\n",
    "But can also write equations:\n",
    "\n",
    "$$\n",
    "J_\\nu = \\frac{1}{4\\pi}\\int I_\\nu d\\Omega\n",
    "$$"
   ]
  },
  {
   "cell_type": "markdown",
   "metadata": {},
   "source": [
    "## Jupyterlab keyboard shortcuts\n",
    "\n",
    "* esc: quit edit mode\n",
    "* enter: enter edit mode\n",
    "\n",
    "Shortcuts for outside edit mode:\n",
    "* a: add cell above\n",
    "* b: add cell below\n",
    "* m: markdown cell\n",
    "* c: copy cells\n",
    "* v: paste cells\n",
    "* x: cut cells\n",
    "* d, d: delete cells\n",
    "* z: undo cell operation\n",
    "\n",
    "Other stuff:\n",
    "* Split cells: ctrl + shift + - (inside the cell)\n",
    "* Merge cells: shift, click on cells, press M"
   ]
  },
  {
   "cell_type": "markdown",
   "metadata": {},
   "source": [
    "Make plots faster in Jupyter by vectorizing (very noticeable with heatmaps, and use `rasterize=true`)"
   ]
  },
  {
   "cell_type": "code",
   "execution_count": null,
   "metadata": {},
   "outputs": [],
   "source": [
    "CairoMakie.enable_only_mime!(\"svg\")"
   ]
  },
  {
   "cell_type": "markdown",
   "metadata": {},
   "source": [
    "----\n",
    "\n",
    "## Unitful units"
   ]
  },
  {
   "cell_type": "code",
   "execution_count": null,
   "metadata": {},
   "outputs": [],
   "source": [
    "###"
   ]
  },
  {
   "cell_type": "markdown",
   "metadata": {},
   "source": [
    "### Simplify units\n",
    "\n",
    "Unitful can use different options:\n",
    "\n",
    "`uconvert`\n",
    "\n",
    "or \n",
    "\n",
    "`|>`\n",
    "\n",
    "or \n",
    "\n",
    "`upreferred`"
   ]
  },
  {
   "cell_type": "markdown",
   "metadata": {},
   "source": [
    "### Unit conversion"
   ]
  },
  {
   "cell_type": "code",
   "execution_count": null,
   "metadata": {},
   "outputs": [],
   "source": [
    "# Using astronomical units, e.g. parsec"
   ]
  },
  {
   "cell_type": "code",
   "execution_count": null,
   "metadata": {},
   "outputs": [],
   "source": [
    "function b_lambda(wave, temp)\n",
    "    ## TODO\n",
    "end\n",
    "\n",
    "waves = [500, 600]u\"nm\"\n",
    "temps = [2000, 5000, 7000]u\"K\"\n",
    "b_lambda(waves, temps)"
   ]
  },
  {
   "cell_type": "code",
   "execution_count": null,
   "metadata": {},
   "outputs": [],
   "source": [
    "waves = collect(LinRange(0.1, 15000, 100)u\"nm\")\n",
    "temps = [2000, 5000, 7000]u\"K\"\n",
    "result = b_lambda(waves, temps)\n",
    "\n",
    "f = Figure()\n",
    "ax = Axis(f[1,1],yscale=log10)\n",
    "\n",
    "for r in axes(result,1)\n",
    "    lines!(ax,ustrip.(waves),ustrip.(result[r,:]))\n",
    "end\n",
    "\n",
    "ylims!(ax, 0.1, 1e15)\n",
    "\n",
    "display(f)"
   ]
  },
  {
   "cell_type": "markdown",
   "metadata": {},
   "source": [
    "## Broadcasting\n",
    "\n",
    "*Important in python, less so in Julia. Why? Because for-loops in Julia are fast*\n",
    "\n",
    "Still useful to write clean code when we want to perform element-by-element binary operations on arrays."
   ]
  },
  {
   "cell_type": "code",
   "execution_count": null,
   "metadata": {},
   "outputs": [],
   "source": [
    "###"
   ]
  },
  {
   "cell_type": "code",
   "execution_count": null,
   "metadata": {},
   "outputs": [],
   "source": [
    "# Option 1, four lines of code"
   ]
  },
  {
   "cell_type": "code",
   "execution_count": null,
   "metadata": {},
   "outputs": [],
   "source": [
    "# Option 2, one line of code"
   ]
  },
  {
   "cell_type": "markdown",
   "metadata": {},
   "source": [
    "We have to use the dot `.` operator to broadcast"
   ]
  },
  {
   "cell_type": "code",
   "execution_count": null,
   "metadata": {},
   "outputs": [],
   "source": [
    "###"
   ]
  },
  {
   "cell_type": "markdown",
   "metadata": {},
   "source": [
    "Multiplication and division of an array with a scalar works without the dot operator"
   ]
  },
  {
   "cell_type": "code",
   "execution_count": null,
   "metadata": {},
   "outputs": [],
   "source": [
    "λ * λ0"
   ]
  },
  {
   "cell_type": "code",
   "execution_count": null,
   "metadata": {},
   "outputs": [],
   "source": [
    "λ / λ0"
   ]
  },
  {
   "cell_type": "markdown",
   "metadata": {},
   "source": [
    "### Broadcasting arrays of different dimensions\n",
    "\n",
    "Arrays can be broadcasted over 'empty' dimensions (dimensions with length=1)"
   ]
  },
  {
   "cell_type": "code",
   "execution_count": null,
   "metadata": {},
   "outputs": [],
   "source": [
    "###"
   ]
  },
  {
   "cell_type": "markdown",
   "metadata": {},
   "source": [
    "**Create a grid of wavelengths and temperatures so we can broadcast the black-body function**\n",
    "\n",
    "Solution 1, creating matrices:"
   ]
  },
  {
   "cell_type": "code",
   "execution_count": null,
   "metadata": {},
   "outputs": [],
   "source": [
    "waves = [500, 600]u\"nm\"\n",
    "temps = [2000, 5000, 7000]u\"K\"\n",
    "\n",
    "###"
   ]
  },
  {
   "cell_type": "markdown",
   "metadata": {},
   "source": [
    "Now, we can shorten the black body function by using broadcasting"
   ]
  },
  {
   "cell_type": "code",
   "execution_count": null,
   "metadata": {},
   "outputs": [],
   "source": [
    "function b_lambda_broadcast_1(wave, temp)\n",
    "    \n",
    "    ### TODO\n",
    "    \n",
    "end\n",
    "\n",
    "b_lambda_broadcast_1(waves, temps)"
   ]
  },
  {
   "cell_type": "markdown",
   "metadata": {},
   "source": [
    "Solution 2, creating 'empty' dimensions so that the broadcasting works:"
   ]
  },
  {
   "cell_type": "code",
   "execution_count": null,
   "metadata": {},
   "outputs": [],
   "source": [
    "###"
   ]
  },
  {
   "cell_type": "code",
   "execution_count": null,
   "metadata": {},
   "outputs": [],
   "source": [
    "function b_lambda_broadcast_2(wave, temp)\n",
    "    \n",
    "    ### TODO\n",
    "end\n",
    "\n",
    "b_lambda_broadcast_2(waves, temps)"
   ]
  },
  {
   "cell_type": "markdown",
   "metadata": {},
   "source": [
    "## Benchmarking"
   ]
  },
  {
   "cell_type": "code",
   "execution_count": null,
   "metadata": {},
   "outputs": [],
   "source": [
    "using BenchmarkTools"
   ]
  },
  {
   "cell_type": "code",
   "execution_count": null,
   "metadata": {},
   "outputs": [],
   "source": [
    "# Create bigger vectors to get a bigger performance difference\n",
    "\n",
    "waves_big = collect(LinRange(500,600,100))u\"nm\"\n",
    "temps_big = collect(LinRange(2000,7000,101))u\"K\";"
   ]
  },
  {
   "cell_type": "code",
   "execution_count": null,
   "metadata": {},
   "outputs": [],
   "source": [
    "time = @benchmark b_lambda(waves_big, temps_big)"
   ]
  },
  {
   "cell_type": "code",
   "execution_count": null,
   "metadata": {},
   "outputs": [],
   "source": [
    "time_bcast = @benchmark b_lambda_broadcast_1(waves_big, temps_big)"
   ]
  },
  {
   "cell_type": "code",
   "execution_count": null,
   "metadata": {},
   "outputs": [],
   "source": [
    "time_bcast = @benchmark b_lambda_broadcast_2(waves_big, temps_big)"
   ]
  },
  {
   "cell_type": "code",
   "execution_count": null,
   "metadata": {},
   "outputs": [],
   "source": []
  }
 ],
 "metadata": {
  "kernelspec": {
   "display_name": "Julia (8 threads) 1.11.6",
   "language": "julia",
   "name": "julia-_8-threads_-1.11"
  },
  "language_info": {
   "file_extension": ".jl",
   "mimetype": "application/julia",
   "name": "julia",
   "version": "1.11.6"
  }
 },
 "nbformat": 4,
 "nbformat_minor": 4
}
