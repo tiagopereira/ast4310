{
 "cells": [
  {
   "cell_type": "code",
   "execution_count": 2,
   "id": "09af5384-187b-46f0-b716-499d15dccd5b",
   "metadata": {},
   "outputs": [],
   "source": [
    "using CairoMakie\n",
    "using Unitful\n",
    "import SpecialFunctions: erfcx\n",
    "import PhysicalConstants.CODATA2018: h, k_B, c_0\n",
    "\n",
    "custom_theme = Theme(\n",
    "    Axis = (\n",
    "        xgridvisible = false,  # Set grid visibility to false\n",
    "        ygridvisible = false,\n",
    "    ),\n",
    ")\n",
    "Makie.set_theme!(custom_theme)\n",
    "CairoMakie.enable_only_mime!(\"svg\")\n",
    "\n",
    "i_units = u\"kW * m^-2 * sr^-1 * nm^-1\";"
   ]
  },
  {
   "cell_type": "markdown",
   "id": "800b2f41-5851-42d6-a306-482a4b590e3a",
   "metadata": {},
   "source": [
    "## 3 Line Strengths and Curve of Growth\n",
    "\n",
    "Using the code created in the previous tutorial, we will examine the strenght of spectral lines from the Schuster-Schwarzschild model as a function of the optical depth of the reversing layer."
   ]
  },
  {
   "cell_type": "code",
   "execution_count": 2,
   "id": "40a47d9e-9d51-49cb-bf22-de50490ef906",
   "metadata": {},
   "outputs": [
    {
     "data": {
      "text/plain": [
       "voigt (generic function with 1 method)"
      ]
     },
     "execution_count": 2,
     "metadata": {},
     "output_type": "execute_result"
    }
   ],
   "source": [
    "function blackbody(\n",
    "        λ::Unitful.Length,\n",
    "        temp::Unitful.Temperature\n",
    ") \n",
    "    radiation = 2h * c_0^2 * λ^-5 / (exp(h * c_0 / k_B / (λ * temp)) - 1)\n",
    "    return radiation |> i_units\n",
    "end\n",
    "\n",
    "function reversing_layer(τ, λ0, temp_surface, temp_layer)\n",
    "    (blackbody(λ0, temp_surface) * exp(-τ) +\n",
    "              blackbody(λ0, temp_layer) * (1 - exp(-τ)))\n",
    "end\n",
    "\n",
    "function voigt(damping::Real, u::Real)\n",
    "    z = damping + u * im\n",
    "    return real(erfcx(z))\n",
    "end\n",
    "\n",
    "function compute_profile(τ0::Real, a::Real, u::AbstractVector{<:Real}, λ0::Unitful.Length;\n",
    "    temp_surface=5700u\"K\",temp_layer=4200u\"K\")\n",
    "\n",
    "    τ = τ0 .* voigt.(a, u)\n",
    "    result = reversing_layer.(τ, λ0, temp_surface, temp_layer)\n",
    "\n",
    "    return result\n",
    "end\n"
   ]
  },
  {
   "cell_type": "markdown",
   "id": "5784daf4-38e2-4811-a5be-001948fed513",
   "metadata": {},
   "source": [
    "### 3.1 The equivalent width of spectral lines\n",
    "\n",
    "By studying the line profile plots as a function of $\\tau(0)$ you can see that the growth of the\n",
    "absorption feature in the spectrum for increasing $\\tau(0)$ \n",
    "is faster for small $\\tau(0)$ then when it \"saturates\" for\n",
    "larger $\\tau(0)$.  Marcel Minnaert and coworkers introduced the\n",
    "*equivalent width* $W_\\lambda$ as a line-strength\n",
    "parameter to measure this growth quantitively.\n",
    "It measures the integrated line depression in the normalized spectrum:\n",
    "\n",
    "\\begin{equation} \\tag{1}\n",
    "   W_\\lambda \\equiv \\int 1 - \\frac{I(\\lambda)}{I_{\\rm cont}}\n",
    "               {\\rm d} \\lambda,\n",
    "\\end{equation}\n",
    "\n",
    "so that its value is the same as the width of a rectangular piece of spectrum that blocks the same amount of spectrum completely (see demonstration figure below).\n",
    "\n",
    "Here is a visualisation of the area of a line profile and its equivalent width:\n",
    "<img src=\"https://tiagopereira.space/ast4310_h23/images/eqw.svg\" alt=\"Radiation through a layer\" width=\"500\"/>\n",
    "\n",
    "\n",
    "To integrate a spectral profile numerically, you can use the function `integrate` from `NumericalIntegration`. \n",
    "\n",
    "### 3.2 The curve of growth\n",
    "\n",
    "The idea behind the equivalent width was obviously that the amount\n",
    "of spectral blocking should be a direct measure \n",
    "of the number of atoms in the reversing layer.  They should set the opaqueness $\\tau(0)$ of the\n",
    "layer.  The profile plots should illustrate that the profile growth \n",
    "is only linear with $\\tau(0)$ for $\\tau(0) \\ll 1$.  The \"curve of growth\" describes the full dependence: the growth of\n",
    "the line strength with the line-causing particle density.  Here's an observed example:\n",
    "\n",
    "<img src=\"https://tiagopereira.space/ast4310_h23/images/p341.svg\" alt=\"Curve of growth\" width=\"800\"/>\n",
    "\n",
    "*Empirical curve of growth for solar\n",
    "    Fe I and Ti I lines.\n",
    "    Taken from [Mihalas (1970)](https://ui.adsabs.harvard.edu/abs/1970stat.book.....M), \n",
    "    who took it from [Wright (1948)](https://ui.adsabs.harvard.edu/abs/1948PDAO....8....1W). Wright measured the equivalent widths of 700 lines in the Utrecht  Atlas.\n",
    "    The quantity $X_f$ along the x axis scales with the product of the\n",
    "    transition probability and the population density of the lower\n",
    "    level of each line. The populations were computed from the Saha-Boltzmann laws. The transition probabilities were measured in the laboratory.\n",
    "    The normalization of $W$ by $\\lambda$ removes the $\\lambda$-dependence of the Doppler width.*"
   ]
  },
  {
   "cell_type": "code",
   "execution_count": 5,
   "id": "6a4d19fd-ce66-4cc3-8a7a-18a7467ad2b4",
   "metadata": {},
   "outputs": [
    {
     "data": {
      "text/plain": [
       "equivalent_width (generic function with 1 method)"
      ]
     },
     "execution_count": 5,
     "metadata": {},
     "output_type": "execute_result"
    }
   ],
   "source": [
    "## TODO:\n",
    "## import relevant packages for integration\n",
    "\n",
    "function equivalent_width(λ, I_λ)\n",
    "    ## TODO:\n",
    "    ## compute the equivalent width\n",
    "    nothing\n",
    "end"
   ]
  },
  {
   "cell_type": "code",
   "execution_count": 6,
   "id": "498fdd14-f9c4-4a75-ae2e-b92568a200bc",
   "metadata": {},
   "outputs": [
    {
     "data": {
      "text/plain": [
       "4200 K"
      ]
     },
     "execution_count": 6,
     "metadata": {},
     "output_type": "execute_result"
    }
   ],
   "source": [
    "## TODO:\n",
    "## calculate equivalent width with the following parameters\n",
    "\n",
    "λ0 = 500u\"nm\"\n",
    "τ0 = 1.0\n",
    "a = 0.1\n",
    "u = LinRange(-200,200,1000)\n",
    "temp_surface = 5777u\"K\"\n",
    "temp_layer = 4200u\"K\""
   ]
  }
 ],
 "metadata": {
  "kernelspec": {
   "display_name": "Julia 1.11.7",
   "language": "julia",
   "name": "julia-1.11"
  },
  "language_info": {
   "file_extension": ".jl",
   "mimetype": "application/julia",
   "name": "julia",
   "version": "1.11.7"
  }
 },
 "nbformat": 4,
 "nbformat_minor": 5
}
