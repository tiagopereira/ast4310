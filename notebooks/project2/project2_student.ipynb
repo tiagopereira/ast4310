{
 "cells": [
  {
   "cell_type": "markdown",
   "id": "ac751729-c887-4e76-8ef4-0194128b1878",
   "metadata": {},
   "source": [
    "<div style=\"background-color:#e6ffe6; padding:10px; border-style:\n",
    "solid;; border-color:#00e600; border-width:1px; color:black;\">\n",
    "\n",
    "# AST4310 2025, Project 2\n",
    "\n",
    "</div>\n",
    "\n",
    "Authored by: *(Replace this text with your candidate numbers)*."
   ]
  },
  {
   "cell_type": "code",
   "execution_count": null,
   "id": "3e4d846d-b92f-4f6a-804a-6e7bb547fa9c",
   "metadata": {},
   "outputs": [],
   "source": [
    "# your imports here"
   ]
  },
  {
   "cell_type": "markdown",
   "id": "b5d5b9e9-5438-4937-8ce1-ffafcb51dae2",
   "metadata": {},
   "source": [
    "### Exercise 1: A mysterious star [50 points]\n",
    "\n",
    "<div style=\"background-color:#e6ffe6; padding:10px; border-style:\n",
    "solid;; border-color:#00e600; border-width:1px; color:black;\">\n",
    "\n",
    "Imagine you are Albrecht Unsöld several decades ago, and a time traveller deposited a 3D model of a star in your computer. The only thing you were told about this stellar atmosphere model is that it has the same metallicity as the Sun. This model is available in the file [`mystery_star.jld2`](https://www.uio.no/studier/emner/matnat/astro/AST4310/h25/files/mystery_star.jld2). You are mystified by this star and want to know more.\n",
    "\n",
    "* [6 points] The model lacks a scale for the mass density of the gas (kg/m³). Instead, it has only the number densities of electrons, neutral hydrogen atoms, and protons. Using the most recent solar photospheric abundances (get them from [Table 2](https://www.aanda.org/articles/aa/full_html/2021/09/aa40445-21/T2.html) of [Asplund et al. 2021](https://ui.adsabs.harvard.edu/abs/2021A%26A...653A.141A/abstract), ignore elements with abundances below 3), compute what is the plasma's mean mass for each hydrogen atom (neutral + ionised), or kg/H. Multiply this value by the hydrogen number density to obtain a mass density scale for the 3D model (function of height, averaged over all x and y). If you cannot obtain a value, use 2⋅10⁻²⁷ kg/H.\n",
    "* [10 points] Calculate the surface gravity $g$ for the model. Assume hydrostatic equilibrium and an ideal gas made up of hydrogen, helium, and electrons (use $N_{He}/N_H$ =0.1). Express it in the commonly used notation of log $_{10}g$, with $g$ in cgs units (cm/s²).\n",
    "* [10 points] Calculate the effective temperature of the star.\n",
    "* [6 points] Considering the effective temperature and surface gravity you obtained, discuss how your mysterious star compares with the results of [Magic et al. (2013)](https://ui.adsabs.harvard.edu/abs/2013A%26A...557A..26M/abstract). Do the sizes of physical structures present appear consistent to you? \n",
    "* [6 points] The model star is missing a proper height scale. Usually, $z=0$ at the surface, defined where $\\tau_\\lambda$=1, for $\\lambda$=500 nm. Considering only continuum processes from $\\mathrm{H}^-$, Thomson scattering (from electrons), and Rayleigh scattering (from hydrogen atoms), calculate the height where $\\tau_{500}$=1 for the mean model, and adjust the zero-point of the height scale based on this.\n",
    "* [6 points] Expanding on the previous question, calculate the height where $\\tau_{500}$=1 for every 1D column in the 3D model. Your result should be a 2D array of (nx, ny). Visualise these data and discuss.\n",
    "* [6 points] Calculate the relative contribution of each process ($\\mathrm{H}^-_\\mathrm{bf}$, $\\mathrm{H}^-_\\mathrm{ff}$, Thomson scattering, and Rayleigh scattering) at 1.5 μm, for both the average 3D model and the solar 1D FALC model. Plot them versus height (both z and $\\tau_{500}$) and discuss."
   ]
  },
  {
   "cell_type": "code",
   "execution_count": null,
   "id": "452afe3b-0d1c-4825-80a9-403bf17252d6",
   "metadata": {},
   "outputs": [],
   "source": [
    "# Your answers here"
   ]
  },
  {
   "cell_type": "markdown",
   "id": "d8d0610b-676a-4646-82c2-ba7632d98563",
   "metadata": {},
   "source": [
    "### Exercise 2: Line Formation in Stellar Granulation [45 points]\n",
    "\n",
    "<div style=\"background-color:#e6ffe6; padding:10px; border-style:\n",
    "solid;; border-color:#00e600; border-width:1px; color:black;\">\n",
    "\n",
    "Using the 3D model from the previous question, you will study the formation of a medium-strength line of Fe I in the star's atmosphere. You should assume only $\\mathrm{H}^{-}$ and Thomson scattering as sources of continuum extinction, and line broadening given only natural, van der Waals (ABO recipe), and Doppler. Assume all Fe is in Fe I, Fe II, or Fe III. Use the following data for the Fe I 617.3 nm line, where $\\sigma$ and $\\alpha$ are the parameters for the ABO recipe:\n",
    "\n",
    "| Species | Wavelength (nm) | $\\sigma$ |  $\\alpha$ |\n",
    "|-----------|-----------|------|----------|\n",
    "| Fe I      | 617.33352   |  327 | 0.244  |\n",
    "\n",
    "\n",
    "For any other data, you can use the [NIST atomic line database](https://physics.nist.gov/PhysRefData/ASD/lines_form.html).\n",
    "\n",
    "* *[15 points]* Calculate the intensity profiles for the Fe I 617.3 nm line from the 3D simulation for $\\mu$=1 (include line and continuum extinction as before). Use 101 wavelength points, centred at the line core, and extending 0.02 nm on either side. Take into account the Doppler shifts at each column. Compute the spatially-averaged line profile, and plot it against a selection of line profiles from different xy points of the simulation (e.g. every 10th point in the y and x directions), so you can see the spatial variations between line profiles).\n",
    "    \n",
    "* *[10 points]* After you compute the intensities above, you should have obtained an array whose shape is `(nwave, ny, nx)`. Plot a spectrogram along one row or column of the simulation (e.g. `intensity_3d[:, 10, :]`), where the x axis is wavelength and the y axis is physical distance in Mm. You should see the meandering shifts of the line core, caused by Doppler motions. Exploring spectrograms from different slices, try to find a simulation column where the line core has a noticeable emission peak, and compare it with a location with a weaker line core. Plot the two spectra and, based on your radiative transfer knowledge, explain the reason why they look so different. (Hint: look at the two source functions.)\n",
    "\n",
    "* *[10 points]* Plot side-by-side the intensity at one of the wings (e.g. first wavelength point) and at the line core for all xy pixels in the simulation. In the wing, you should see the continuum radiation with the typical granulation pattern. Close to the line core, the pattern should be different and in many cases seems reverted (e.g. structures that seem to correspond with granule centres are darker, while structures between granules are brighter). This effect is called *reverse granulation*. Using the information from your spectra and from the simulation, explain why this happens.\n",
    "\n",
    "* *[10 points]* Compare the spatially-averaged line profile you obtained before ($\\mu$=1) with the line profile from the solar 1D FALC model (also for $\\mu$=1). Discuss any differences and what causes them.\n",
    "\n",
    "\n",
    "</div>"
   ]
  },
  {
   "cell_type": "code",
   "execution_count": null,
   "id": "bc48e6b9-6824-4a4c-ab7f-79fb51accbbb",
   "metadata": {},
   "outputs": [],
   "source": [
    "# Your answers here"
   ]
  }
 ],
 "metadata": {
  "kernelspec": {
   "display_name": "Julia 1.11.7",
   "language": "julia",
   "name": "julia-1.11"
  },
  "language_info": {
   "file_extension": ".jl",
   "mimetype": "application/julia",
   "name": "julia",
   "version": "1.11.7"
  }
 },
 "nbformat": 4,
 "nbformat_minor": 5
}
