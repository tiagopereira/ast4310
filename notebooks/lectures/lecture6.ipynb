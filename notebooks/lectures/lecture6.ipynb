{
 "cells": [
  {
   "cell_type": "code",
   "execution_count": 1,
   "id": "8856ccdd-ed7c-4917-b1fb-65656c40b1c3",
   "metadata": {},
   "outputs": [],
   "source": [
    "using CairoMakie\n",
    "using Unitful\n",
    "using Colors\n",
    "import PhysicalConstants.CODATA2018: h, k_B, c_0"
   ]
  },
  {
   "cell_type": "code",
   "execution_count": 16,
   "id": "4e3875de-bcb7-45fd-b015-a099c8bad336",
   "metadata": {},
   "outputs": [],
   "source": [
    "# Set some plot defaults\n",
    "custom_theme = Theme(\n",
    "    Axis = (\n",
    "        xgridvisible = false,  # Set grid visibility to false\n",
    "        ygridvisible = false,\n",
    "    ),\n",
    ")\n",
    "Makie.set_theme!(custom_theme)"
   ]
  },
  {
   "cell_type": "code",
   "execution_count": 17,
   "id": "79b24088-7d4b-4546-a27d-743151976e17",
   "metadata": {},
   "outputs": [
    {
     "data": {
      "text/plain": [
       "blackbody_ν (generic function with 1 method)"
      ]
     },
     "execution_count": 17,
     "metadata": {},
     "output_type": "execute_result"
    }
   ],
   "source": [
    "i_units = u\"kW / (m^2 * nm * sr)\"\n",
    "\n",
    "function blackbody_λ(λ, temp) \n",
    "    radiation = 2h * c_0^2 * λ^-5 / (exp(h * c_0 / k_B / (λ * temp)) - 1)\n",
    "    return radiation |> i_units\n",
    "end\n",
    "\n",
    "if_units = u\"nW / (m^2 * Hz * sr)\"\n",
    "\n",
    "function blackbody_ν(ν, temp) \n",
    "    radiation = 2h * ν^3 / c_0^2 / (exp(h * ν / (k_B * temp)) - 1)\n",
    "    return radiation |> if_units\n",
    "end"
   ]
  },
  {
   "cell_type": "code",
   "execution_count": null,
   "id": "7277a338-1476-4c5f-ae04-dcb5e7cc61f0",
   "metadata": {},
   "outputs": [],
   "source": []
  }
 ],
 "metadata": {
  "kernelspec": {
   "display_name": "Julia 1.11.6",
   "language": "julia",
   "name": "julia-1.11"
  },
  "language_info": {
   "file_extension": ".jl",
   "mimetype": "application/julia",
   "name": "julia",
   "version": "1.11.6"
  }
 },
 "nbformat": 4,
 "nbformat_minor": 5
}
