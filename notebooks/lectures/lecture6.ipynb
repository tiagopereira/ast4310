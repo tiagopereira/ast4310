{
 "cells": [
  {
   "cell_type": "code",
   "execution_count": 1,
   "id": "8856ccdd-ed7c-4917-b1fb-65656c40b1c3",
   "metadata": {},
   "outputs": [],
   "source": [
    "using CairoMakie\n",
    "using Unitful\n",
    "using Colors\n",
    "import PhysicalConstants.CODATA2018: h, k_B, c_0"
   ]
  },
  {
   "cell_type": "code",
   "execution_count": 2,
   "id": "d4788eef-4777-45a7-a4e2-86c50f093b51",
   "metadata": {},
   "outputs": [],
   "source": [
    "# Set some plot defaults\n",
    "custom_theme = Theme(\n",
    "    Axis = (\n",
    "        xgridvisible = false,  # Set grid visibility to false\n",
    "        ygridvisible = false,\n",
    "    ),\n",
    ")\n",
    "Makie.set_theme!(custom_theme)"
   ]
  },
  {
   "cell_type": "code",
   "execution_count": 3,
   "id": "79b24088-7d4b-4546-a27d-743151976e17",
   "metadata": {},
   "outputs": [
    {
     "data": {
      "text/plain": [
       "blackbody_λ (generic function with 1 method)"
      ]
     },
     "execution_count": 3,
     "metadata": {},
     "output_type": "execute_result"
    }
   ],
   "source": [
    "i_units = u\"kW / (m^2 * nm * sr)\"\n",
    "\n",
    "function blackbody_λ(λ, temp) \n",
    "    # your code here\n",
    "end"
   ]
  }
 ],
 "metadata": {
  "kernelspec": {
   "display_name": "Julia 1.11.6",
   "language": "julia",
   "name": "julia-1.11"
  },
  "language_info": {
   "file_extension": ".jl",
   "mimetype": "application/julia",
   "name": "julia",
   "version": "1.11.6"
  }
 },
 "nbformat": 4,
 "nbformat_minor": 5
}
