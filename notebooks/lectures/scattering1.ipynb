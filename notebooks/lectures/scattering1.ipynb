{
 "cells": [
  {
   "cell_type": "code",
   "execution_count": 24,
   "id": "084ee900-878a-4d48-b823-6d7adc508995",
   "metadata": {},
   "outputs": [],
   "source": [
    "using CairoMakie\n",
    "using Random\n",
    "using Statistics: mean\n",
    "using Printf"
   ]
  },
  {
   "cell_type": "markdown",
   "id": "829aead1-fd26-44f3-bb25-e6129c4fedf3",
   "metadata": {},
   "source": [
    "### Exercise: plot positions and $l_\\nu^*$ for the case of isotropic scattering, after $N$ random scattering events in 2D"
   ]
  },
  {
   "cell_type": "code",
   "execution_count": null,
   "id": "6f0d8840-f14f-4286-9e60-321db73006ee",
   "metadata": {},
   "outputs": [],
   "source": []
  }
 ],
 "metadata": {
  "kernelspec": {
   "display_name": "Julia 1.11.7",
   "language": "julia",
   "name": "julia-1.11"
  },
  "language_info": {
   "file_extension": ".jl",
   "mimetype": "application/julia",
   "name": "julia",
   "version": "1.11.7"
  }
 },
 "nbformat": 4,
 "nbformat_minor": 5
}
