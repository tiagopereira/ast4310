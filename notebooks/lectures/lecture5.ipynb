{
 "cells": [
  {
   "cell_type": "code",
   "execution_count": 1,
   "id": "daa38b97-c334-4ae1-8991-94b013fbdcee",
   "metadata": {},
   "outputs": [],
   "source": [
    "using CairoMakie\n",
    "using Unitful\n",
    "using NumericalIntegration"
   ]
  },
  {
   "cell_type": "markdown",
   "id": "29986589-db3d-4884-a6f3-0134f3e3f5ba",
   "metadata": {},
   "source": [
    "#### Generating input\n",
    "* extinction ($\\alpha_\\nu$)\n",
    "* depth ($l$) and height ($z$) scale\n",
    "* source function $S_\\nu$"
   ]
  },
  {
   "cell_type": "code",
   "execution_count": 2,
   "id": "ca7175fc-150b-43f4-9404-52879708f652",
   "metadata": {},
   "outputs": [],
   "source": []
  },
  {
   "cell_type": "markdown",
   "id": "50504eaf-16fb-4360-b101-24f9a2e02392",
   "metadata": {},
   "source": [
    "## Calculations\n",
    "\n",
    "### Optical depth\n",
    "$$\n",
    "\\tau_\\nu (z_0) = -\\int_\\infty^{z_0} \\alpha_\\nu \\mathrm{d}z \\;\\;\\;\\; \\mathrm{(height\\; scale)}\n",
    "$$\n",
    "\n",
    "$$\n",
    "\\tau_\\nu (l_0) = \\int_0^{l_0} \\alpha_\\nu \\mathrm{d}l\\;\\;\\;\\; \\mathrm{(depth\\; scale)}\n",
    "$$\n",
    "\n",
    "Note that $z=\\infty$ is the same point as $l=0$, and corresponds to the surface of the emitting body (here assumed to have an infinite extent). The $\\tau$ integration can be done both ways.\n",
    "\n",
    "### Emerging intensity\n",
    "\n",
    "$$\n",
    "I_\\nu(\\tau_\\nu=0) = \\int_0^\\infty S_\\nu e^{-\\tau_\\nu}\\mathrm{d}\\tau_\\nu.\n",
    "$$"
   ]
  },
  {
   "cell_type": "code",
   "execution_count": null,
   "id": "1c32ea2a-4058-48f0-b1dc-469261b1492b",
   "metadata": {},
   "outputs": [],
   "source": [
    "tau = zeros(Float64, NWAVE, NDEP)\n",
    "intensity = zeros(Float64, NWAVE) * i_units\n",
    "\n",
    "# Your code here"
   ]
  },
  {
   "cell_type": "code",
   "execution_count": null,
   "id": "e16bdea0-a947-46ac-9a4f-7c7848f65af1",
   "metadata": {},
   "outputs": [],
   "source": [
    "# Your plotting code here"
   ]
  }
 ],
 "metadata": {
  "kernelspec": {
   "display_name": "Julia 1.11.6",
   "language": "julia",
   "name": "julia-1.11"
  },
  "language_info": {
   "file_extension": ".jl",
   "mimetype": "application/julia",
   "name": "julia",
   "version": "1.11.6"
  }
 },
 "nbformat": 4,
 "nbformat_minor": 5
}
