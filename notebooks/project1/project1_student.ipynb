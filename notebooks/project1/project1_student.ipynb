{
 "cells": [
  {
   "cell_type": "markdown",
   "id": "23c0d7aa-e8ee-4cb6-9982-894cc3d0ea94",
   "metadata": {},
   "source": [
    "<div style=\"background-color:#e6ffe6; padding:10px; border-style:\n",
    "solid;; border-color:#00e600; border-width:1px; color:black;\">\n",
    "\n",
    "# AST4310 2025, Project 1\n",
    "\n",
    "</div>\n",
    "\n",
    "Authored by: *(Replace this text with your candidate numbers)*."
   ]
  },
  {
   "cell_type": "code",
   "execution_count": 1,
   "id": "2625eeb8-c948-4bf6-9381-6c8936ee4982",
   "metadata": {},
   "outputs": [],
   "source": [
    "# Your imports here"
   ]
  },
  {
   "cell_type": "markdown",
   "id": "838a3e8b-f0bd-47a7-abe0-4390a392ec5e",
   "metadata": {},
   "source": [
    "<div style=\"background-color:#e6ffe6; padding:10px; border-style:\n",
    "solid;; border-color:#00e600; border-width:1px; color:black;\">\n",
    "\n",
    "### Exercise 1: Line formation in optically thick medium [30 points]\n",
    "    \n",
    "Assume an optically thick medium, where the Eddington-Barbier approximation is valid. A didactic tool to understand the formation of spectral lines is a diagram with four panels: total extinction vs. frequency (top left), optical depth vs height (top right), source function vs. height (bottom right), and emerging intensity vs. frequency (bottom left). It is also useful to plot the optical depth at two frequency points: near the maximum extinction and near the minimum extinction. \n",
    "    \n",
    "In this exercise, you are to create such diagrams and explain in physical terms what is going on. The units are not important for these purposes, so feel free to use arbitrary units. You are free to create your own function for $\\alpha(\\nu)$ (extinction as a function of frequency), but keep in mind that spectral lines usually follow a Gaussian shape (or, more precisely, a Voigt profile), and continua can usually be approximated by a line (for narrow wavelength regions). You are also free to select your own function for $S(h)$ (source function as a function of height). It is recommended that you do not set the extinction such that $\\tau=1$ is reached at the edges of your height scale - some approximations will break down and strange things will follow. Assume that the extinction is the same at all height points (unrealistic, but simple for now).\n",
    "    \n",
    "* *[10 points]* Build $\\alpha(\\nu)$ and $S(h)$ such that the emergent intensity looks approximately like the plot below. Plot the 4-panel diagram and explain in physical terms the choices you made when building the extinction and source function. Would there be a significantly different way to build $\\alpha$ and $S$ so that the resulting intensity would be approximately the same?\n",
    "    \n",
    "<img src=\"https://tiagopereira.space/ast4310/images/intensity_plot1.svg\" alt=\"Intensity plot 1\" width=\"350\"/>\n",
    "\n",
    "* *[10 points]* Build $\\alpha(\\nu)$ and $S(h)$ such that the emergent intensity looks approximately like the plot below. Plot the 4-panel diagram and explain in physical terms the choices you made when building the extinction and source function. Would there be a significantly different way to build $\\alpha$ and $S$ so that the resulting intensity would be approximately the same?\n",
    "    \n",
    "<img src=\"https://tiagopereira.space/ast4310/images/intensity_plot2.svg\" alt=\"Intensity plot 2\" width=\"350\"/>\n",
    "    \n",
    "* *[10 points]* Build $\\alpha(\\nu)$ and $S(h)$ such that you have a spectral line in absorption. Plot a modified version of the 4-panel diagram where the intensity plot you have both $I(\\mu=1)$ and $I(\\mu=0.2)$. Explain the differences between $I(\\mu=1)$ and $I(\\mu=0.2)$ using the information from the diagram.\n",
    "    \n",
    "</div>"
   ]
  },
  {
   "cell_type": "code",
   "execution_count": 2,
   "id": "0b1e9278-f23c-4c99-afd7-a459891b722f",
   "metadata": {},
   "outputs": [],
   "source": [
    "# Your answers here"
   ]
  },
  {
   "cell_type": "markdown",
   "id": "6457f5fc-cf1e-47c4-972d-debd525fdbee",
   "metadata": {},
   "source": [
    "<div style=\"background-color:#e6ffe6; padding:10px; border-style:\n",
    "solid;; border-color:#00e600; border-width:1px; color:black;\">\n",
    "\n",
    "### Exercise 2: The Boltzmann and Saha laws [21 points]\n",
    "    \n",
    "An effective temperature around 9500 K is the classical divide between hot and cool stars, since it is approximately the temperature where hydrogen is 50% ionised. Hot stars have therefore mostly ionised hydrogen, and cool stars mostly neutral hydrogen. Use the provided hydrogen atom file to answer these questions.\n",
    "    \n",
    "* *[3 points]* What are the wavelengths from the first three lines in the Paschen series ($n_l=3$)?\n",
    "* *[7 points]* Assuming that the Saha distribution can be applied, estimate what is the typical electron density in a star with effective temperature of 9500 K and a hydrogen ionisation fraction of 50%.\n",
    "* *[7 points]* For the electron density you obtained before, plot the ionisation fraction of hydrogen as a function of temperature.\n",
    "* *[4 points]* For calculations of hydrogen lines, some textbooks tabulate the partition function for neutral hydrogen as a constant $U=2$. Does this seem reasonable to you?\n",
    "\n",
    "    \n",
    "</div>"
   ]
  },
  {
   "cell_type": "code",
   "execution_count": 3,
   "id": "cc7eae4b-3010-4f0b-b135-3761f86d3c2a",
   "metadata": {},
   "outputs": [],
   "source": [
    "# Your answers here"
   ]
  },
  {
   "cell_type": "markdown",
   "id": "c72029cb-9983-42d4-a3e2-1dbe8b914615",
   "metadata": {},
   "source": [
    "<div style=\"background-color:#e6ffe6; padding:10px; border-style:\n",
    "solid;; border-color:#00e600; border-width:1px; color:black;\">\n",
    "\n",
    "### Exercise 3: Magnesium [44 points]\n",
    "    \n",
    "Magnesium is a light element that is produced by nuclear fusion in massive stars. The so-called h & k lines are resonance lines of singly-ionised magnesium (Mg II) and have the wavelengths of 279.635 nm and 280.353 nm. These lines are some of the most important tracers of ionised gas in distant galaxies, in planetary nebulae and the interstellar medium of our own galaxy. They are also very useful diagnostics of the solar atmosphere, studied in great detail by [NASA's IRIS satellite](https://www.nasa.gov/missions/iris/nasas-sun-observing-iris-mission/).\n",
    "    \n",
    "The provided file `MgI-III.txt` contains the energy levels of neutral and singly-ionised Mg, plus the ionisation energy of doubly-ionised Mg (Mg III). Use this file to answer this exercise.\n",
    "    \n",
    "* *[7 points]* What are the energies of the upper and lower levels for the Mg II h & k lines (relative to the Mg II ground state)?\n",
    "* *[10 points]* Assuming Saha-Boltzmann statistics and an electron pressure of 1 kPa, what is the range of temperatures where Mg is mostly in the singly ionised form? Compare with hydrogen and discuss.\n",
    "* *[10 points]* Making use of the [NIST Atomic Spectra Database Levels form](https://physics.nist.gov/PhysRefData/ASD/levels_form.html), extend the Mg atom file to include all ionisation stages up to (and including) Mg XI. Make a modified \"Payne plot\" to show only the strength of the ionisation stages as function of temperature for this new model atom. Plot for an electron pressure of 100 Pa and a range of temperatures between $3500$ and $2 \\cdot 10^6$ K.\n",
    "* *[9 points]* In diffuse media where densities are much lower, collisions are much less frequent and the Saha ionisation no longer applies. In these conditions, it is common to use the *Collisional Ionisation Equilibrium* (CIE), also called *coronal equilibrium* since it is a good approximation for the coronae of stars. The provided file `Mg_CIE.txt` contains the ionisation fractions of magnesium (up to Mg IX) as a function of temperature. Compare the ionisation fractions under CIE with the Saha (previous point) and discuss the differences. Which approximation is best on the surface of the Sun?\n",
    "* *[8 points]* Under Collisional Ionisation Equilibrium, a bound-free transition can cool a gas, but the same is not true under Saha ionisation. Why is this? Discuss.\n",
    "\n",
    "</div>"
   ]
  },
  {
   "cell_type": "code",
   "execution_count": 4,
   "id": "aeb44e6a-678f-48a4-8f17-5d08d50b8065",
   "metadata": {},
   "outputs": [],
   "source": [
    "# Your answers here"
   ]
  }
 ],
 "metadata": {
  "kernelspec": {
   "display_name": "Julia 1.11.6",
   "language": "julia",
   "name": "julia-1.11"
  },
  "language_info": {
   "file_extension": ".jl",
   "mimetype": "application/julia",
   "name": "julia",
   "version": "1.11.6"
  }
 },
 "nbformat": 4,
 "nbformat_minor": 5
}
